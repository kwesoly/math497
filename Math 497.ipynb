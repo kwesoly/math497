{
 "cells": [
  {
   "cell_type": "markdown",
   "metadata": {},
   "source": [
    "# Pitch Data Exploration"
   ]
  },
  {
   "cell_type": "markdown",
   "metadata": {},
   "source": [
    "## Some Plot"
   ]
  },
  {
   "cell_type": "code",
   "execution_count": 6,
   "metadata": {},
   "outputs": [],
   "source": [
    "import pandas as pd\n",
    "import matplotlib.pyplot as plt\n",
    "import numpy as np\n",
    "# Read in the data\n",
    "Pitch = pd.read_csv(\"C:/Users/student/Desktop/Fall 2018/Python/Pitching Postseason Data.csv\")\n"
   ]
  },
  {
   "cell_type": "code",
   "execution_count": 7,
   "metadata": {},
   "outputs": [
    {
     "data": {
      "text/html": [
       "<div>\n",
       "<style scoped>\n",
       "    .dataframe tbody tr th:only-of-type {\n",
       "        vertical-align: middle;\n",
       "    }\n",
       "\n",
       "    .dataframe tbody tr th {\n",
       "        vertical-align: top;\n",
       "    }\n",
       "\n",
       "    .dataframe thead th {\n",
       "        text-align: right;\n",
       "    }\n",
       "</style>\n",
       "<table border=\"1\" class=\"dataframe\">\n",
       "  <thead>\n",
       "    <tr style=\"text-align: right;\">\n",
       "      <th></th>\n",
       "      <th>year</th>\n",
       "      <th>w</th>\n",
       "      <th>l</th>\n",
       "      <th>g</th>\n",
       "      <th>gs</th>\n",
       "      <th>cg</th>\n",
       "      <th>sho</th>\n",
       "      <th>sv</th>\n",
       "      <th>ipouts</th>\n",
       "      <th>h</th>\n",
       "      <th>...</th>\n",
       "      <th>ibb</th>\n",
       "      <th>wp</th>\n",
       "      <th>hbp</th>\n",
       "      <th>bk</th>\n",
       "      <th>bfp</th>\n",
       "      <th>gf</th>\n",
       "      <th>r</th>\n",
       "      <th>sh</th>\n",
       "      <th>sf</th>\n",
       "      <th>g_idp</th>\n",
       "    </tr>\n",
       "  </thead>\n",
       "  <tbody>\n",
       "    <tr>\n",
       "      <th>count</th>\n",
       "      <td>5109.000000</td>\n",
       "      <td>5109.000000</td>\n",
       "      <td>5109.000000</td>\n",
       "      <td>5109.000000</td>\n",
       "      <td>5109.000000</td>\n",
       "      <td>5109.000000</td>\n",
       "      <td>5109.000000</td>\n",
       "      <td>5109.000000</td>\n",
       "      <td>5109.000000</td>\n",
       "      <td>5109.000000</td>\n",
       "      <td>...</td>\n",
       "      <td>5059.000000</td>\n",
       "      <td>5059.000000</td>\n",
       "      <td>5059.000000</td>\n",
       "      <td>4884.000000</td>\n",
       "      <td>5059.000000</td>\n",
       "      <td>5109.000000</td>\n",
       "      <td>5109.000000</td>\n",
       "      <td>4398.000000</td>\n",
       "      <td>4398.000000</td>\n",
       "      <td>5059.000000</td>\n",
       "    </tr>\n",
       "    <tr>\n",
       "      <th>mean</th>\n",
       "      <td>1987.565473</td>\n",
       "      <td>0.299667</td>\n",
       "      <td>0.299667</td>\n",
       "      <td>1.911529</td>\n",
       "      <td>0.601683</td>\n",
       "      <td>0.128597</td>\n",
       "      <td>0.027794</td>\n",
       "      <td>0.109219</td>\n",
       "      <td>16.149149</td>\n",
       "      <td>4.921707</td>\n",
       "      <td>...</td>\n",
       "      <td>0.213679</td>\n",
       "      <td>0.146867</td>\n",
       "      <td>0.160901</td>\n",
       "      <td>0.013514</td>\n",
       "      <td>22.026092</td>\n",
       "      <td>0.473087</td>\n",
       "      <td>2.413192</td>\n",
       "      <td>0.290359</td>\n",
       "      <td>0.132788</td>\n",
       "      <td>0.382882</td>\n",
       "    </tr>\n",
       "    <tr>\n",
       "      <th>std</th>\n",
       "      <td>27.590228</td>\n",
       "      <td>0.561805</td>\n",
       "      <td>0.533933</td>\n",
       "      <td>1.011292</td>\n",
       "      <td>0.811819</td>\n",
       "      <td>0.480739</td>\n",
       "      <td>0.172533</td>\n",
       "      <td>0.420001</td>\n",
       "      <td>15.375949</td>\n",
       "      <td>4.783624</td>\n",
       "      <td>...</td>\n",
       "      <td>0.498319</td>\n",
       "      <td>0.415658</td>\n",
       "      <td>0.418301</td>\n",
       "      <td>0.115471</td>\n",
       "      <td>18.749470</td>\n",
       "      <td>0.838524</td>\n",
       "      <td>2.791809</td>\n",
       "      <td>0.634862</td>\n",
       "      <td>0.378057</td>\n",
       "      <td>0.693607</td>\n",
       "    </tr>\n",
       "    <tr>\n",
       "      <th>min</th>\n",
       "      <td>1884.000000</td>\n",
       "      <td>0.000000</td>\n",
       "      <td>0.000000</td>\n",
       "      <td>1.000000</td>\n",
       "      <td>0.000000</td>\n",
       "      <td>0.000000</td>\n",
       "      <td>0.000000</td>\n",
       "      <td>0.000000</td>\n",
       "      <td>0.000000</td>\n",
       "      <td>0.000000</td>\n",
       "      <td>...</td>\n",
       "      <td>0.000000</td>\n",
       "      <td>0.000000</td>\n",
       "      <td>0.000000</td>\n",
       "      <td>0.000000</td>\n",
       "      <td>1.000000</td>\n",
       "      <td>0.000000</td>\n",
       "      <td>0.000000</td>\n",
       "      <td>0.000000</td>\n",
       "      <td>0.000000</td>\n",
       "      <td>0.000000</td>\n",
       "    </tr>\n",
       "    <tr>\n",
       "      <th>25%</th>\n",
       "      <td>1977.000000</td>\n",
       "      <td>0.000000</td>\n",
       "      <td>0.000000</td>\n",
       "      <td>1.000000</td>\n",
       "      <td>0.000000</td>\n",
       "      <td>0.000000</td>\n",
       "      <td>0.000000</td>\n",
       "      <td>0.000000</td>\n",
       "      <td>6.000000</td>\n",
       "      <td>2.000000</td>\n",
       "      <td>...</td>\n",
       "      <td>0.000000</td>\n",
       "      <td>0.000000</td>\n",
       "      <td>0.000000</td>\n",
       "      <td>0.000000</td>\n",
       "      <td>8.000000</td>\n",
       "      <td>0.000000</td>\n",
       "      <td>0.000000</td>\n",
       "      <td>0.000000</td>\n",
       "      <td>0.000000</td>\n",
       "      <td>0.000000</td>\n",
       "    </tr>\n",
       "    <tr>\n",
       "      <th>50%</th>\n",
       "      <td>1998.000000</td>\n",
       "      <td>0.000000</td>\n",
       "      <td>0.000000</td>\n",
       "      <td>2.000000</td>\n",
       "      <td>0.000000</td>\n",
       "      <td>0.000000</td>\n",
       "      <td>0.000000</td>\n",
       "      <td>0.000000</td>\n",
       "      <td>12.000000</td>\n",
       "      <td>4.000000</td>\n",
       "      <td>...</td>\n",
       "      <td>0.000000</td>\n",
       "      <td>0.000000</td>\n",
       "      <td>0.000000</td>\n",
       "      <td>0.000000</td>\n",
       "      <td>17.000000</td>\n",
       "      <td>0.000000</td>\n",
       "      <td>2.000000</td>\n",
       "      <td>0.000000</td>\n",
       "      <td>0.000000</td>\n",
       "      <td>0.000000</td>\n",
       "    </tr>\n",
       "    <tr>\n",
       "      <th>75%</th>\n",
       "      <td>2007.000000</td>\n",
       "      <td>1.000000</td>\n",
       "      <td>1.000000</td>\n",
       "      <td>2.000000</td>\n",
       "      <td>1.000000</td>\n",
       "      <td>0.000000</td>\n",
       "      <td>0.000000</td>\n",
       "      <td>0.000000</td>\n",
       "      <td>21.000000</td>\n",
       "      <td>7.000000</td>\n",
       "      <td>...</td>\n",
       "      <td>0.000000</td>\n",
       "      <td>0.000000</td>\n",
       "      <td>0.000000</td>\n",
       "      <td>0.000000</td>\n",
       "      <td>29.000000</td>\n",
       "      <td>1.000000</td>\n",
       "      <td>4.000000</td>\n",
       "      <td>0.000000</td>\n",
       "      <td>0.000000</td>\n",
       "      <td>1.000000</td>\n",
       "    </tr>\n",
       "    <tr>\n",
       "      <th>max</th>\n",
       "      <td>2015.000000</td>\n",
       "      <td>4.000000</td>\n",
       "      <td>4.000000</td>\n",
       "      <td>8.000000</td>\n",
       "      <td>8.000000</td>\n",
       "      <td>8.000000</td>\n",
       "      <td>3.000000</td>\n",
       "      <td>4.000000</td>\n",
       "      <td>213.000000</td>\n",
       "      <td>64.000000</td>\n",
       "      <td>...</td>\n",
       "      <td>4.000000</td>\n",
       "      <td>5.000000</td>\n",
       "      <td>3.000000</td>\n",
       "      <td>1.000000</td>\n",
       "      <td>178.000000</td>\n",
       "      <td>6.000000</td>\n",
       "      <td>36.000000</td>\n",
       "      <td>7.000000</td>\n",
       "      <td>4.000000</td>\n",
       "      <td>6.000000</td>\n",
       "    </tr>\n",
       "  </tbody>\n",
       "</table>\n",
       "<p>8 rows × 25 columns</p>\n",
       "</div>"
      ],
      "text/plain": [
       "              year            w            l            g           gs  \\\n",
       "count  5109.000000  5109.000000  5109.000000  5109.000000  5109.000000   \n",
       "mean   1987.565473     0.299667     0.299667     1.911529     0.601683   \n",
       "std      27.590228     0.561805     0.533933     1.011292     0.811819   \n",
       "min    1884.000000     0.000000     0.000000     1.000000     0.000000   \n",
       "25%    1977.000000     0.000000     0.000000     1.000000     0.000000   \n",
       "50%    1998.000000     0.000000     0.000000     2.000000     0.000000   \n",
       "75%    2007.000000     1.000000     1.000000     2.000000     1.000000   \n",
       "max    2015.000000     4.000000     4.000000     8.000000     8.000000   \n",
       "\n",
       "                cg          sho           sv       ipouts            h  \\\n",
       "count  5109.000000  5109.000000  5109.000000  5109.000000  5109.000000   \n",
       "mean      0.128597     0.027794     0.109219    16.149149     4.921707   \n",
       "std       0.480739     0.172533     0.420001    15.375949     4.783624   \n",
       "min       0.000000     0.000000     0.000000     0.000000     0.000000   \n",
       "25%       0.000000     0.000000     0.000000     6.000000     2.000000   \n",
       "50%       0.000000     0.000000     0.000000    12.000000     4.000000   \n",
       "75%       0.000000     0.000000     0.000000    21.000000     7.000000   \n",
       "max       8.000000     3.000000     4.000000   213.000000    64.000000   \n",
       "\n",
       "          ...               ibb           wp          hbp           bk  \\\n",
       "count     ...       5059.000000  5059.000000  5059.000000  4884.000000   \n",
       "mean      ...          0.213679     0.146867     0.160901     0.013514   \n",
       "std       ...          0.498319     0.415658     0.418301     0.115471   \n",
       "min       ...          0.000000     0.000000     0.000000     0.000000   \n",
       "25%       ...          0.000000     0.000000     0.000000     0.000000   \n",
       "50%       ...          0.000000     0.000000     0.000000     0.000000   \n",
       "75%       ...          0.000000     0.000000     0.000000     0.000000   \n",
       "max       ...          4.000000     5.000000     3.000000     1.000000   \n",
       "\n",
       "               bfp           gf            r           sh           sf  \\\n",
       "count  5059.000000  5109.000000  5109.000000  4398.000000  4398.000000   \n",
       "mean     22.026092     0.473087     2.413192     0.290359     0.132788   \n",
       "std      18.749470     0.838524     2.791809     0.634862     0.378057   \n",
       "min       1.000000     0.000000     0.000000     0.000000     0.000000   \n",
       "25%       8.000000     0.000000     0.000000     0.000000     0.000000   \n",
       "50%      17.000000     0.000000     2.000000     0.000000     0.000000   \n",
       "75%      29.000000     1.000000     4.000000     0.000000     0.000000   \n",
       "max     178.000000     6.000000    36.000000     7.000000     4.000000   \n",
       "\n",
       "             g_idp  \n",
       "count  5059.000000  \n",
       "mean      0.382882  \n",
       "std       0.693607  \n",
       "min       0.000000  \n",
       "25%       0.000000  \n",
       "50%       0.000000  \n",
       "75%       1.000000  \n",
       "max       6.000000  \n",
       "\n",
       "[8 rows x 25 columns]"
      ]
     },
     "execution_count": 7,
     "metadata": {},
     "output_type": "execute_result"
    }
   ],
   "source": [
    "Pitch.describe()"
   ]
  },
  {
   "cell_type": "code",
   "execution_count": 8,
   "metadata": {},
   "outputs": [
    {
     "data": {
      "text/plain": [
       "(0, 200)"
      ]
     },
     "execution_count": 8,
     "metadata": {},
     "output_type": "execute_result"
    },
    {
     "data": {
      "image/png": "[encoded data removed]",
      "text/plain": [
       "<Figure size 432x288 with 1 Axes>"
      ]
     },
     "metadata": {},
     "output_type": "display_data"
    }
   ],
   "source": [
    "# Scatter plot\n",
    "plt.scatter(Pitch[\"year\"], Pitch[\"r\"], marker='o')\n",
    "plt.xlim(1850, 2018)\n",
    "plt.ylim(0, 200)"
   ]
  },
  {
   "cell_type": "code",
   "execution_count": 9,
   "metadata": {},
   "outputs": [
    {
     "data": {
      "text/plain": [
       "<matplotlib.collections.PathCollection at 0x1e0ebdef5f8>"
      ]
     },
     "execution_count": 9,
     "metadata": {},
     "output_type": "execute_result"
    },
    {
     "data": {
      "image/png": "[encoded data removed]",
      "text/plain": [
       "<Figure size 432x288 with 1 Axes>"
      ]
     },
     "metadata": {},
     "output_type": "display_data"
    }
   ],
   "source": [
    "P_AA = Pitch[Pitch.league_id == \"AA\"]\n",
    "P_NL = Pitch[Pitch.league_id == \"NL\"]\n",
    "P_AL = Pitch[Pitch.league_id == \"AL\"]\n",
    "\n",
    "# filter out year and gs mean\n",
    "pf = np.array([])\n",
    "year = Pitch.year.unique()\n",
    "for i in year:\n",
    "    p = Pitch[Pitch.year == i]\n",
    "    pf = np.append(pf, p.agg(\"mean\").gs)\n",
    "\n",
    "plt.scatter(year, pf)"
   ]
  },
  {
   "cell_type": "code",
   "execution_count": 5,
   "metadata": {},
   "outputs": [
    {
     "data": {
      "text/plain": [
       "<matplotlib.collections.PathCollection at 0x1a093b0ea90>"
      ]
     },
     "execution_count": 5,
     "metadata": {},
     "output_type": "execute_result"
    },
    {
     "data": {
      "image/png": "[encoded data removed]",
      "text/plain": [
       "<Figure size 432x288 with 1 Axes>"
      ]
     },
     "metadata": {},
     "output_type": "display_data"
    }
   ],
   "source": [
    "er = np.array([])\n",
    "year = P_NL.year.unique()\n",
    "for i in year:\n",
    "    p = P_NL[P_NL.year == i]\n",
    "    er = np.append(er, p.agg(\"mean\").era)\n",
    "\n",
    "plt.scatter(year, er)"
   ]
  },
  {
   "cell_type": "code",
   "execution_count": 6,
   "metadata": {},
   "outputs": [
    {
     "data": {
      "text/plain": [
       "<matplotlib.collections.PathCollection at 0x1a094b8ac88>"
      ]
     },
     "execution_count": 6,
     "metadata": {},
     "output_type": "execute_result"
    },
    {
     "data": {
      "image/png": "[encoded data removed]",
      "text/plain": [
       "<Figure size 432x288 with 1 Axes>"
      ]
     },
     "metadata": {},
     "output_type": "display_data"
    }
   ],
   "source": [
    "er = np.array([])\n",
    "year = P_AL.year.unique()\n",
    "for i in year:\n",
    "    p = P_AL[P_AL.year == i]\n",
    "    er = np.append(er, p.agg(\"mean\").era)\n",
    "plt.scatter(year, er)"
   ]
  },
  {
   "cell_type": "code",
   "execution_count": 7,
   "metadata": {},
   "outputs": [
    {
     "data": {
      "image/png": "[encoded data removed]",
      "text/plain": [
       "<Figure size 432x288 with 1 Axes>"
      ]
     },
     "metadata": {},
     "output_type": "display_data"
    }
   ],
   "source": [
    "\n",
    "Pitch.iloc[:,2]\n",
    "Pitch.iloc[:,4]\n",
    "x = Pitch.iloc[:,6]\n",
    "y = Pitch.iloc[:,7]\n",
    "y\n",
    "plt.plot(x, y, 'o', color='black');"
   ]
  },
  {
   "cell_type": "code",
   "execution_count": 8,
   "metadata": {},
   "outputs": [
    {
     "data": {
      "text/plain": [
       "WS       1737\n",
       "NLCS      839\n",
       "ALCS      800\n",
       "NLDS2     409\n",
       "ALDS1     404\n",
       "NLDS1     399\n",
       "ALDS2     383\n",
       "ALWC       39\n",
       "NLWC       34\n",
       "NEDIV      17\n",
       "AEDIV      16\n",
       "NWDIV      16\n",
       "AWDIV      10\n",
       "CS          6\n",
       "Name: round, dtype: int64"
      ]
     },
     "execution_count": 8,
     "metadata": {},
     "output_type": "execute_result"
    },
    {
     "data": {
      "image/png": "[encoded data removed]",
      "text/plain": [
       "<Figure size 432x288 with 1 Axes>"
      ]
     },
     "metadata": {},
     "output_type": "display_data"
    }
   ],
   "source": [
    "type(Pitch)\n",
    "Pitch.iloc[1,1]\n",
    "Pitch.iloc[1,:]\n",
    "Pitch.iloc[:,4].unique()\n",
    "Pitch.iloc[:,4].value_counts()\n",
    "Pitch.iloc[:,4].value_counts()\n",
    "\n",
    "er = np.array([])\n",
    "year = P_AL.year.unique()\n",
    "for i in year:\n",
    "    p = P_AL[P_AL.year == i]\n",
    "    er = np.append(er, p.agg(\"mean\").era)\n",
    "plt.scatter(year, er)\n",
    "Pitch.iloc[:,2].value_counts()"
   ]
  },
  {
   "cell_type": "markdown",
   "metadata": {},
   "source": [
    "Some comments"
   ]
  },
  {
   "cell_type": "code",
   "execution_count": 9,
   "metadata": {},
   "outputs": [
    {
     "data": {
      "text/plain": [
       "<matplotlib.collections.PathCollection at 0x1a094cba240>"
      ]
     },
     "execution_count": 9,
     "metadata": {},
     "output_type": "execute_result"
    },
    {
     "data": {
      "image/png": "[encoded data removed]",
      "text/plain": [
       "<Figure size 432x288 with 1 Axes>"
      ]
     },
     "metadata": {},
     "output_type": "display_data"
    }
   ],
   "source": [
    "er = np.array([])\n",
    "hr_i = P_AL.hr.unique()\n",
    "for i in hr_i:\n",
    "    p = P_AL[P_AL.hr == i]\n",
    "    er = np.append(er, p.agg(\"mean\").era)\n",
    "plt.scatter(hr_i, er)\n",
    "\n",
    "er = np.array([])\n",
    "hr_i = P_NL.hr.unique()\n",
    "for i in hr_i:\n",
    "    p = P_NL[P_NL.hr == i]\n",
    "    er = np.append(er, p.agg(\"mean\").era)\n",
    "plt.scatter(hr_i, er)\n",
    "\n"
   ]
  },
  {
   "cell_type": "code",
   "execution_count": 10,
   "metadata": {},
   "outputs": [
    {
     "data": {
      "text/html": [
       "<div>\n",
       "<style scoped>\n",
       "    .dataframe tbody tr th:only-of-type {\n",
       "        vertical-align: middle;\n",
       "    }\n",
       "\n",
       "    .dataframe tbody tr th {\n",
       "        vertical-align: top;\n",
       "    }\n",
       "\n",
       "    .dataframe thead th {\n",
       "        text-align: right;\n",
       "    }\n",
       "</style>\n",
       "<table border=\"1\" class=\"dataframe\">\n",
       "  <thead>\n",
       "    <tr style=\"text-align: right;\">\n",
       "      <th></th>\n",
       "      <th>player_id</th>\n",
       "      <th>year</th>\n",
       "      <th>round</th>\n",
       "      <th>team_id</th>\n",
       "      <th>league_id</th>\n",
       "      <th>w</th>\n",
       "      <th>l</th>\n",
       "      <th>g</th>\n",
       "      <th>gs</th>\n",
       "      <th>cg</th>\n",
       "      <th>...</th>\n",
       "      <th>ibb</th>\n",
       "      <th>wp</th>\n",
       "      <th>hbp</th>\n",
       "      <th>bk</th>\n",
       "      <th>bfp</th>\n",
       "      <th>gf</th>\n",
       "      <th>r</th>\n",
       "      <th>sh</th>\n",
       "      <th>sf</th>\n",
       "      <th>g_idp</th>\n",
       "    </tr>\n",
       "  </thead>\n",
       "  <tbody>\n",
       "    <tr>\n",
       "      <th>0</th>\n",
       "      <td>becanbu01</td>\n",
       "      <td>1884</td>\n",
       "      <td>WS</td>\n",
       "      <td>NY4</td>\n",
       "      <td>AA</td>\n",
       "      <td>0</td>\n",
       "      <td>1</td>\n",
       "      <td>1</td>\n",
       "      <td>1</td>\n",
       "      <td>1</td>\n",
       "      <td>...</td>\n",
       "      <td>NaN</td>\n",
       "      <td>NaN</td>\n",
       "      <td>NaN</td>\n",
       "      <td>NaN</td>\n",
       "      <td>NaN</td>\n",
       "      <td>0</td>\n",
       "      <td>12</td>\n",
       "      <td>NaN</td>\n",
       "      <td>NaN</td>\n",
       "      <td>NaN</td>\n",
       "    </tr>\n",
       "    <tr>\n",
       "      <th>1</th>\n",
       "      <td>keefeti01</td>\n",
       "      <td>1884</td>\n",
       "      <td>WS</td>\n",
       "      <td>NY4</td>\n",
       "      <td>AA</td>\n",
       "      <td>0</td>\n",
       "      <td>2</td>\n",
       "      <td>2</td>\n",
       "      <td>2</td>\n",
       "      <td>2</td>\n",
       "      <td>...</td>\n",
       "      <td>NaN</td>\n",
       "      <td>NaN</td>\n",
       "      <td>NaN</td>\n",
       "      <td>NaN</td>\n",
       "      <td>NaN</td>\n",
       "      <td>0</td>\n",
       "      <td>9</td>\n",
       "      <td>NaN</td>\n",
       "      <td>NaN</td>\n",
       "      <td>NaN</td>\n",
       "    </tr>\n",
       "    <tr>\n",
       "      <th>2</th>\n",
       "      <td>radboch01</td>\n",
       "      <td>1884</td>\n",
       "      <td>WS</td>\n",
       "      <td>PRO</td>\n",
       "      <td>NL</td>\n",
       "      <td>3</td>\n",
       "      <td>0</td>\n",
       "      <td>3</td>\n",
       "      <td>3</td>\n",
       "      <td>3</td>\n",
       "      <td>...</td>\n",
       "      <td>NaN</td>\n",
       "      <td>NaN</td>\n",
       "      <td>NaN</td>\n",
       "      <td>NaN</td>\n",
       "      <td>NaN</td>\n",
       "      <td>0</td>\n",
       "      <td>3</td>\n",
       "      <td>NaN</td>\n",
       "      <td>NaN</td>\n",
       "      <td>NaN</td>\n",
       "    </tr>\n",
       "    <tr>\n",
       "      <th>3</th>\n",
       "      <td>clarkjo01</td>\n",
       "      <td>1885</td>\n",
       "      <td>WS</td>\n",
       "      <td>CHN</td>\n",
       "      <td>NL</td>\n",
       "      <td>0</td>\n",
       "      <td>1</td>\n",
       "      <td>2</td>\n",
       "      <td>2</td>\n",
       "      <td>2</td>\n",
       "      <td>...</td>\n",
       "      <td>NaN</td>\n",
       "      <td>NaN</td>\n",
       "      <td>NaN</td>\n",
       "      <td>NaN</td>\n",
       "      <td>NaN</td>\n",
       "      <td>0</td>\n",
       "      <td>14</td>\n",
       "      <td>NaN</td>\n",
       "      <td>NaN</td>\n",
       "      <td>NaN</td>\n",
       "    </tr>\n",
       "    <tr>\n",
       "      <th>4</th>\n",
       "      <td>mccorji01</td>\n",
       "      <td>1885</td>\n",
       "      <td>WS</td>\n",
       "      <td>CHN</td>\n",
       "      <td>NL</td>\n",
       "      <td>3</td>\n",
       "      <td>2</td>\n",
       "      <td>5</td>\n",
       "      <td>5</td>\n",
       "      <td>5</td>\n",
       "      <td>...</td>\n",
       "      <td>NaN</td>\n",
       "      <td>NaN</td>\n",
       "      <td>NaN</td>\n",
       "      <td>NaN</td>\n",
       "      <td>NaN</td>\n",
       "      <td>0</td>\n",
       "      <td>22</td>\n",
       "      <td>NaN</td>\n",
       "      <td>NaN</td>\n",
       "      <td>NaN</td>\n",
       "    </tr>\n",
       "  </tbody>\n",
       "</table>\n",
       "<p>5 rows × 30 columns</p>\n",
       "</div>"
      ],
      "text/plain": [
       "   player_id  year round team_id league_id  w  l  g  gs  cg  ...    ibb  wp  \\\n",
       "0  becanbu01  1884    WS     NY4        AA  0  1  1   1   1  ...    NaN NaN   \n",
       "1  keefeti01  1884    WS     NY4        AA  0  2  2   2   2  ...    NaN NaN   \n",
       "2  radboch01  1884    WS     PRO        NL  3  0  3   3   3  ...    NaN NaN   \n",
       "3  clarkjo01  1885    WS     CHN        NL  0  1  2   2   2  ...    NaN NaN   \n",
       "4  mccorji01  1885    WS     CHN        NL  3  2  5   5   5  ...    NaN NaN   \n",
       "\n",
       "   hbp  bk  bfp  gf   r  sh  sf  g_idp  \n",
       "0  NaN NaN  NaN   0  12 NaN NaN    NaN  \n",
       "1  NaN NaN  NaN   0   9 NaN NaN    NaN  \n",
       "2  NaN NaN  NaN   0   3 NaN NaN    NaN  \n",
       "3  NaN NaN  NaN   0  14 NaN NaN    NaN  \n",
       "4  NaN NaN  NaN   0  22 NaN NaN    NaN  \n",
       "\n",
       "[5 rows x 30 columns]"
      ]
     },
     "execution_count": 10,
     "metadata": {},
     "output_type": "execute_result"
    }
   ],
   "source": [
    "Pitch.head()\n"
   ]
  },
  {
   "cell_type": "code",
   "execution_count": 11,
   "metadata": {},
   "outputs": [
    {
     "data": {
      "text/plain": [
       "player_id     object\n",
       "year           int64\n",
       "round         object\n",
       "team_id       object\n",
       "league_id     object\n",
       "w              int64\n",
       "l              int64\n",
       "g              int64\n",
       "gs             int64\n",
       "cg             int64\n",
       "sho            int64\n",
       "sv             int64\n",
       "ipouts         int64\n",
       "h              int64\n",
       "er             int64\n",
       "hr             int64\n",
       "bb             int64\n",
       "so             int64\n",
       "baopp         object\n",
       "era          float64\n",
       "ibb          float64\n",
       "wp           float64\n",
       "hbp          float64\n",
       "bk           float64\n",
       "bfp          float64\n",
       "gf             int64\n",
       "r              int64\n",
       "sh           float64\n",
       "sf           float64\n",
       "g_idp        float64\n",
       "dtype: object"
      ]
     },
     "execution_count": 11,
     "metadata": {},
     "output_type": "execute_result"
    }
   ],
   "source": [
    "Pitch.dtypes"
   ]
  },
  {
   "cell_type": "code",
   "execution_count": 12,
   "metadata": {},
   "outputs": [
    {
     "data": {
      "text/plain": [
       "player_id      0\n",
       "year           0\n",
       "round          0\n",
       "team_id        0\n",
       "league_id      0\n",
       "w              0\n",
       "l              0\n",
       "g              0\n",
       "gs             0\n",
       "cg             0\n",
       "sho            0\n",
       "sv             0\n",
       "ipouts         0\n",
       "h              0\n",
       "er             0\n",
       "hr             0\n",
       "bb             0\n",
       "so             0\n",
       "baopp         68\n",
       "era          268\n",
       "ibb           50\n",
       "wp            50\n",
       "hbp           50\n",
       "bk           225\n",
       "bfp           50\n",
       "gf             0\n",
       "r              0\n",
       "sh           711\n",
       "sf           711\n",
       "g_idp         50\n",
       "dtype: int64"
      ]
     },
     "execution_count": 12,
     "metadata": {},
     "output_type": "execute_result"
    }
   ],
   "source": [
    "Pitch.isnull().sum()"
   ]
  },
  {
   "cell_type": "code",
   "execution_count": 15,
   "metadata": {},
   "outputs": [
    {
     "data": {
      "text/plain": [
       "array([nan, nan, nan, ..., '0.231', '0.176', '0.095'], dtype=object)"
      ]
     },
     "execution_count": 15,
     "metadata": {},
     "output_type": "execute_result"
    }
   ],
   "source": [
    "Pitch.baopp.values"
   ]
  },
  {
   "cell_type": "code",
   "execution_count": 16,
   "metadata": {},
   "outputs": [
    {
     "name": "stdout",
     "output_type": "stream",
     "text": [
      "142\n"
     ]
    }
   ],
   "source": [
    "# Getting the number of shutout wins over the years\n",
    "Total = Pitch['sho'].sum()\n",
    "print(Total)\n"
   ]
  },
  {
   "cell_type": "code",
   "execution_count": 17,
   "metadata": {},
   "outputs": [],
   "source": [
    "# Example for handleing missing values"
   ]
  },
  {
   "cell_type": "code",
   "execution_count": 18,
   "metadata": {},
   "outputs": [],
   "source": [
    "df = pd.DataFrame([[np.nan, 2, np.nan, 0],\n",
    "          [3, 4, np.nan, 1],\n",
    "                    [np.nan, np.nan, np.nan, 5],\n",
    "                    [np.nan, 3, np.nan, 4]],\n",
    "                    columns=list('ABCD'))"
   ]
  },
  {
   "cell_type": "code",
   "execution_count": 19,
   "metadata": {},
   "outputs": [
    {
     "data": {
      "text/html": [
       "<div>\n",
       "<style scoped>\n",
       "    .dataframe tbody tr th:only-of-type {\n",
       "        vertical-align: middle;\n",
       "    }\n",
       "\n",
       "    .dataframe tbody tr th {\n",
       "        vertical-align: top;\n",
       "    }\n",
       "\n",
       "    .dataframe thead th {\n",
       "        text-align: right;\n",
       "    }\n",
       "</style>\n",
       "<table border=\"1\" class=\"dataframe\">\n",
       "  <thead>\n",
       "    <tr style=\"text-align: right;\">\n",
       "      <th></th>\n",
       "      <th>A</th>\n",
       "      <th>B</th>\n",
       "      <th>C</th>\n",
       "      <th>D</th>\n",
       "    </tr>\n",
       "  </thead>\n",
       "  <tbody>\n",
       "    <tr>\n",
       "      <th>0</th>\n",
       "      <td>NaN</td>\n",
       "      <td>2.0</td>\n",
       "      <td>NaN</td>\n",
       "      <td>0</td>\n",
       "    </tr>\n",
       "    <tr>\n",
       "      <th>1</th>\n",
       "      <td>3.0</td>\n",
       "      <td>4.0</td>\n",
       "      <td>NaN</td>\n",
       "      <td>1</td>\n",
       "    </tr>\n",
       "    <tr>\n",
       "      <th>2</th>\n",
       "      <td>NaN</td>\n",
       "      <td>NaN</td>\n",
       "      <td>NaN</td>\n",
       "      <td>5</td>\n",
       "    </tr>\n",
       "    <tr>\n",
       "      <th>3</th>\n",
       "      <td>NaN</td>\n",
       "      <td>3.0</td>\n",
       "      <td>NaN</td>\n",
       "      <td>4</td>\n",
       "    </tr>\n",
       "  </tbody>\n",
       "</table>\n",
       "</div>"
      ],
      "text/plain": [
       "     A    B   C  D\n",
       "0  NaN  2.0 NaN  0\n",
       "1  3.0  4.0 NaN  1\n",
       "2  NaN  NaN NaN  5\n",
       "3  NaN  3.0 NaN  4"
      ]
     },
     "execution_count": 19,
     "metadata": {},
     "output_type": "execute_result"
    }
   ],
   "source": [
    "df"
   ]
  },
  {
   "cell_type": "code",
   "execution_count": 20,
   "metadata": {},
   "outputs": [
    {
     "data": {
      "text/plain": [
       "A    3\n",
       "B    1\n",
       "C    4\n",
       "D    0\n",
       "dtype: int64"
      ]
     },
     "execution_count": 20,
     "metadata": {},
     "output_type": "execute_result"
    }
   ],
   "source": [
    "df.isnull().sum()"
   ]
  },
  {
   "cell_type": "code",
   "execution_count": 21,
   "metadata": {},
   "outputs": [
    {
     "data": {
      "text/html": [
       "<div>\n",
       "<style scoped>\n",
       "    .dataframe tbody tr th:only-of-type {\n",
       "        vertical-align: middle;\n",
       "    }\n",
       "\n",
       "    .dataframe tbody tr th {\n",
       "        vertical-align: top;\n",
       "    }\n",
       "\n",
       "    .dataframe thead th {\n",
       "        text-align: right;\n",
       "    }\n",
       "</style>\n",
       "<table border=\"1\" class=\"dataframe\">\n",
       "  <thead>\n",
       "    <tr style=\"text-align: right;\">\n",
       "      <th></th>\n",
       "      <th>A</th>\n",
       "      <th>B</th>\n",
       "      <th>C</th>\n",
       "      <th>D</th>\n",
       "    </tr>\n",
       "  </thead>\n",
       "  <tbody>\n",
       "    <tr>\n",
       "      <th>0</th>\n",
       "      <td>3.0</td>\n",
       "      <td>2.0</td>\n",
       "      <td>NaN</td>\n",
       "      <td>0</td>\n",
       "    </tr>\n",
       "    <tr>\n",
       "      <th>1</th>\n",
       "      <td>3.0</td>\n",
       "      <td>4.0</td>\n",
       "      <td>NaN</td>\n",
       "      <td>1</td>\n",
       "    </tr>\n",
       "    <tr>\n",
       "      <th>2</th>\n",
       "      <td>3.0</td>\n",
       "      <td>3.0</td>\n",
       "      <td>NaN</td>\n",
       "      <td>5</td>\n",
       "    </tr>\n",
       "    <tr>\n",
       "      <th>3</th>\n",
       "      <td>3.0</td>\n",
       "      <td>3.0</td>\n",
       "      <td>NaN</td>\n",
       "      <td>4</td>\n",
       "    </tr>\n",
       "  </tbody>\n",
       "</table>\n",
       "</div>"
      ],
      "text/plain": [
       "     A    B   C  D\n",
       "0  3.0  2.0 NaN  0\n",
       "1  3.0  4.0 NaN  1\n",
       "2  3.0  3.0 NaN  5\n",
       "3  3.0  3.0 NaN  4"
      ]
     },
     "execution_count": 21,
     "metadata": {},
     "output_type": "execute_result"
    }
   ],
   "source": [
    "df.fillna(df.mean())"
   ]
  },
  {
   "cell_type": "code",
   "execution_count": 22,
   "metadata": {},
   "outputs": [
    {
     "data": {
      "text/html": [
       "<div>\n",
       "<style scoped>\n",
       "    .dataframe tbody tr th:only-of-type {\n",
       "        vertical-align: middle;\n",
       "    }\n",
       "\n",
       "    .dataframe tbody tr th {\n",
       "        vertical-align: top;\n",
       "    }\n",
       "\n",
       "    .dataframe thead th {\n",
       "        text-align: right;\n",
       "    }\n",
       "</style>\n",
       "<table border=\"1\" class=\"dataframe\">\n",
       "  <thead>\n",
       "    <tr style=\"text-align: right;\">\n",
       "      <th></th>\n",
       "      <th>A</th>\n",
       "      <th>B</th>\n",
       "      <th>C</th>\n",
       "      <th>D</th>\n",
       "    </tr>\n",
       "  </thead>\n",
       "  <tbody>\n",
       "    <tr>\n",
       "      <th>0</th>\n",
       "      <td>NaN</td>\n",
       "      <td>2.0</td>\n",
       "      <td>NaN</td>\n",
       "      <td>0</td>\n",
       "    </tr>\n",
       "    <tr>\n",
       "      <th>1</th>\n",
       "      <td>3.0</td>\n",
       "      <td>4.0</td>\n",
       "      <td>NaN</td>\n",
       "      <td>1</td>\n",
       "    </tr>\n",
       "    <tr>\n",
       "      <th>2</th>\n",
       "      <td>NaN</td>\n",
       "      <td>NaN</td>\n",
       "      <td>NaN</td>\n",
       "      <td>5</td>\n",
       "    </tr>\n",
       "    <tr>\n",
       "      <th>3</th>\n",
       "      <td>NaN</td>\n",
       "      <td>3.0</td>\n",
       "      <td>NaN</td>\n",
       "      <td>4</td>\n",
       "    </tr>\n",
       "  </tbody>\n",
       "</table>\n",
       "</div>"
      ],
      "text/plain": [
       "     A    B   C  D\n",
       "0  NaN  2.0 NaN  0\n",
       "1  3.0  4.0 NaN  1\n",
       "2  NaN  NaN NaN  5\n",
       "3  NaN  3.0 NaN  4"
      ]
     },
     "execution_count": 22,
     "metadata": {},
     "output_type": "execute_result"
    }
   ],
   "source": [
    "df"
   ]
  },
  {
   "cell_type": "code",
   "execution_count": 23,
   "metadata": {},
   "outputs": [
    {
     "data": {
      "text/plain": [
       "WS       1737\n",
       "NLCS      839\n",
       "ALCS      800\n",
       "NLDS2     409\n",
       "ALDS1     404\n",
       "NLDS1     399\n",
       "ALDS2     383\n",
       "ALWC       39\n",
       "NLWC       34\n",
       "NEDIV      17\n",
       "AEDIV      16\n",
       "NWDIV      16\n",
       "AWDIV      10\n",
       "CS          6\n",
       "Name: round, dtype: int64"
      ]
     },
     "execution_count": 23,
     "metadata": {},
     "output_type": "execute_result"
    }
   ],
   "source": [
    "# Looking at the rounds in the data\n",
    "Pitch.loc[:,'round'].value_counts()\n"
   ]
  },
  {
   "cell_type": "code",
   "execution_count": 24,
   "metadata": {},
   "outputs": [
    {
     "data": {
      "text/plain": [
       "player_id      0\n",
       "year           0\n",
       "round          0\n",
       "team_id        0\n",
       "league_id      0\n",
       "w              0\n",
       "l              0\n",
       "g              0\n",
       "gs             0\n",
       "cg             0\n",
       "sho            0\n",
       "sv             0\n",
       "ipouts         0\n",
       "h              0\n",
       "er             0\n",
       "hr             0\n",
       "bb             0\n",
       "so             0\n",
       "baopp         68\n",
       "era          268\n",
       "ibb           50\n",
       "wp            50\n",
       "hbp           50\n",
       "bk           225\n",
       "bfp           50\n",
       "gf             0\n",
       "r              0\n",
       "sh           711\n",
       "sf           711\n",
       "g_idp         50\n",
       "dtype: int64"
      ]
     },
     "execution_count": 24,
     "metadata": {},
     "output_type": "execute_result"
    }
   ],
   "source": [
    "# Looking at missing data\n",
    "Pitch.isna().sum()\n",
    "Pitch.isnull().sum()\n"
   ]
  },
  {
   "cell_type": "code",
   "execution_count": 25,
   "metadata": {},
   "outputs": [
    {
     "data": {
      "text/plain": [
       "1"
      ]
     },
     "execution_count": 25,
     "metadata": {},
     "output_type": "execute_result"
    }
   ],
   "source": [
    "# Looking at baopp\n",
    "Pitch.dtypes\n",
    "Pitch.baopp.value_counts()\n",
    "(Pitch.baopp == '-').sum()"
   ]
  },
  {
   "cell_type": "code",
   "execution_count": 1,
   "metadata": {},
   "outputs": [],
   "source": [
    "# Plottting mean shutout wins over the years."
   ]
  },
  {
   "cell_type": "code",
   "execution_count": 10,
   "metadata": {},
   "outputs": [
    {
     "data": {
      "text/plain": [
       "<matplotlib.collections.PathCollection at 0x1e0ebe9c198>"
      ]
     },
     "execution_count": 10,
     "metadata": {},
     "output_type": "execute_result"
    },
    {
     "data": {
      "image/png": "[encoded data removed]",
      "text/plain": [
       "<Figure size 432x288 with 1 Axes>"
      ]
     },
     "metadata": {},
     "output_type": "display_data"
    }
   ],
   "source": [
    "ps = np.array([])\n",
    "year = Pitch.year.unique()\n",
    "for i in year:\n",
    "    p = Pitch[Pitch.year == i]\n",
    "    ps = np.append(ps, p.agg(\"mean\").sho)\n",
    "    \n",
    "plt.scatter(year, ps)"
   ]
  },
  {
   "cell_type": "code",
   "execution_count": null,
   "metadata": {},
   "outputs": [],
   "source": []
  },
  {
   "cell_type": "code",
   "execution_count": null,
   "metadata": {},
   "outputs": [],
   "source": []
  }
 ],
 "metadata": {
  "kernelspec": {
   "display_name": "Python 3",
   "language": "python",
   "name": "python3"
  },
  "language_info": {
   "codemirror_mode": {
    "name": "ipython",
    "version": 3
   },
   "file_extension": ".py",
   "mimetype": "text/x-python",
   "name": "python",
   "nbconvert_exporter": "python",
   "pygments_lexer": "ipython3",
   "version": "3.6.5"
  }
 },
 "nbformat": 4,
 "nbformat_minor": 2
}
